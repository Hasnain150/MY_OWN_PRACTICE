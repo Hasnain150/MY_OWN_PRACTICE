{
 "cells": [
  {
   "cell_type": "code",
   "execution_count": 1,
   "metadata": {},
   "outputs": [],
   "source": [
    "import pandas as pd \n",
    "import numpy as np"
   ]
  },
  {
   "cell_type": "code",
   "execution_count": 17,
   "metadata": {},
   "outputs": [],
   "source": [
    "# Load the dataset using pandas\n",
    "df = pd.read_csv(\"heart.csv\")"
   ]
  },
  {
   "cell_type": "code",
   "execution_count": 6,
   "metadata": {},
   "outputs": [
    {
     "data": {
      "text/html": [
       "<div>\n",
       "<style scoped>\n",
       "    .dataframe tbody tr th:only-of-type {\n",
       "        vertical-align: middle;\n",
       "    }\n",
       "\n",
       "    .dataframe tbody tr th {\n",
       "        vertical-align: top;\n",
       "    }\n",
       "\n",
       "    .dataframe thead th {\n",
       "        text-align: right;\n",
       "    }\n",
       "</style>\n",
       "<table border=\"1\" class=\"dataframe\">\n",
       "  <thead>\n",
       "    <tr style=\"text-align: right;\">\n",
       "      <th></th>\n",
       "      <th>Age</th>\n",
       "      <th>Sex</th>\n",
       "      <th>ChestPainType</th>\n",
       "      <th>RestingBP</th>\n",
       "      <th>Cholesterol</th>\n",
       "      <th>FastingBS</th>\n",
       "      <th>RestingECG</th>\n",
       "      <th>MaxHR</th>\n",
       "      <th>ExerciseAngina</th>\n",
       "      <th>Oldpeak</th>\n",
       "      <th>ST_Slope</th>\n",
       "      <th>HeartDisease</th>\n",
       "    </tr>\n",
       "  </thead>\n",
       "  <tbody>\n",
       "    <tr>\n",
       "      <th>0</th>\n",
       "      <td>40</td>\n",
       "      <td>M</td>\n",
       "      <td>ATA</td>\n",
       "      <td>140</td>\n",
       "      <td>289</td>\n",
       "      <td>0</td>\n",
       "      <td>Normal</td>\n",
       "      <td>172</td>\n",
       "      <td>N</td>\n",
       "      <td>0.0</td>\n",
       "      <td>Up</td>\n",
       "      <td>0</td>\n",
       "    </tr>\n",
       "    <tr>\n",
       "      <th>1</th>\n",
       "      <td>49</td>\n",
       "      <td>F</td>\n",
       "      <td>NAP</td>\n",
       "      <td>160</td>\n",
       "      <td>180</td>\n",
       "      <td>0</td>\n",
       "      <td>Normal</td>\n",
       "      <td>156</td>\n",
       "      <td>N</td>\n",
       "      <td>1.0</td>\n",
       "      <td>Flat</td>\n",
       "      <td>1</td>\n",
       "    </tr>\n",
       "    <tr>\n",
       "      <th>2</th>\n",
       "      <td>37</td>\n",
       "      <td>M</td>\n",
       "      <td>ATA</td>\n",
       "      <td>130</td>\n",
       "      <td>283</td>\n",
       "      <td>0</td>\n",
       "      <td>ST</td>\n",
       "      <td>98</td>\n",
       "      <td>N</td>\n",
       "      <td>0.0</td>\n",
       "      <td>Up</td>\n",
       "      <td>0</td>\n",
       "    </tr>\n",
       "  </tbody>\n",
       "</table>\n",
       "</div>"
      ],
      "text/plain": [
       "   Age Sex ChestPainType  RestingBP  Cholesterol  FastingBS RestingECG  MaxHR  \\\n",
       "0   40   M           ATA        140          289          0     Normal    172   \n",
       "1   49   F           NAP        160          180          0     Normal    156   \n",
       "2   37   M           ATA        130          283          0         ST     98   \n",
       "\n",
       "  ExerciseAngina  Oldpeak ST_Slope  HeartDisease  \n",
       "0              N      0.0       Up             0  \n",
       "1              N      1.0     Flat             1  \n",
       "2              N      0.0       Up             0  "
      ]
     },
     "execution_count": 6,
     "metadata": {},
     "output_type": "execute_result"
    }
   ],
   "source": [
    "df.head(3)"
   ]
  },
  {
   "cell_type": "code",
   "execution_count": 18,
   "metadata": {},
   "outputs": [],
   "source": [
    "cat_variables = [\n",
    "    \"Sex\",\n",
    "    \"ChestPainType\",\n",
    "    \"RestingECG\",\n",
    "    \"ExerciseAngina\",\n",
    "    \"ST_Slope\"\n",
    "]"
   ]
  },
  {
   "cell_type": "code",
   "execution_count": 19,
   "metadata": {},
   "outputs": [],
   "source": [
    "df = pd.get_dummies(\n",
    "    data=df,\n",
    "    prefix=cat_variables,\n",
    "    columns=cat_variables\n",
    ")\n"
   ]
  },
  {
   "cell_type": "code",
   "execution_count": 24,
   "metadata": {},
   "outputs": [
    {
     "name": "stdout",
     "output_type": "stream",
     "text": [
      "<class 'pandas.core.frame.DataFrame'>\n",
      "     Age  RestingBP  Cholesterol  FastingBS  MaxHR  Oldpeak  HeartDisease  \\\n",
      "0     40        140          289          0    172      0.0             0   \n",
      "1     49        160          180          0    156      1.0             1   \n",
      "2     37        130          283          0     98      0.0             0   \n",
      "3     48        138          214          0    108      1.5             1   \n",
      "4     54        150          195          0    122      0.0             0   \n",
      "..   ...        ...          ...        ...    ...      ...           ...   \n",
      "913   45        110          264          0    132      1.2             1   \n",
      "914   68        144          193          1    141      3.4             1   \n",
      "915   57        130          131          0    115      1.2             1   \n",
      "916   57        130          236          0    174      0.0             1   \n",
      "917   38        138          175          0    173      0.0             0   \n",
      "\n",
      "     Sex_F  Sex_M  ChestPainType_ASY  ...  ChestPainType_NAP  \\\n",
      "0    False   True              False  ...              False   \n",
      "1     True  False              False  ...               True   \n",
      "2    False   True              False  ...              False   \n",
      "3     True  False               True  ...              False   \n",
      "4    False   True              False  ...               True   \n",
      "..     ...    ...                ...  ...                ...   \n",
      "913  False   True              False  ...              False   \n",
      "914  False   True               True  ...              False   \n",
      "915  False   True               True  ...              False   \n",
      "916   True  False              False  ...              False   \n",
      "917  False   True              False  ...               True   \n",
      "\n",
      "     ChestPainType_TA  RestingECG_LVH  RestingECG_Normal  RestingECG_ST  \\\n",
      "0               False           False               True          False   \n",
      "1               False           False               True          False   \n",
      "2               False           False              False           True   \n",
      "3               False           False               True          False   \n",
      "4               False           False               True          False   \n",
      "..                ...             ...                ...            ...   \n",
      "913              True           False               True          False   \n",
      "914             False           False               True          False   \n",
      "915             False           False               True          False   \n",
      "916             False            True              False          False   \n",
      "917             False           False               True          False   \n",
      "\n",
      "     ExerciseAngina_N  ExerciseAngina_Y  ST_Slope_Down  ST_Slope_Flat  \\\n",
      "0                True             False          False          False   \n",
      "1                True             False          False           True   \n",
      "2                True             False          False          False   \n",
      "3               False              True          False           True   \n",
      "4                True             False          False          False   \n",
      "..                ...               ...            ...            ...   \n",
      "913              True             False          False           True   \n",
      "914              True             False          False           True   \n",
      "915             False              True          False           True   \n",
      "916              True             False          False           True   \n",
      "917              True             False          False          False   \n",
      "\n",
      "     ST_Slope_Up  \n",
      "0           True  \n",
      "1          False  \n",
      "2           True  \n",
      "3          False  \n",
      "4           True  \n",
      "..           ...  \n",
      "913        False  \n",
      "914        False  \n",
      "915        False  \n",
      "916        False  \n",
      "917         True  \n",
      "\n",
      "[918 rows x 21 columns]\n"
     ]
    }
   ],
   "source": [
    "print(type(df))\n",
    "print(df)"
   ]
  },
  {
   "cell_type": "code",
   "execution_count": 20,
   "metadata": {},
   "outputs": [],
   "source": [
    "# Getting All the Names of The Features : \n",
    "features=[i for i in df.columns if i != \"HeartDisease\"]"
   ]
  },
  {
   "cell_type": "code",
   "execution_count": 21,
   "metadata": {},
   "outputs": [
    {
     "name": "stdout",
     "output_type": "stream",
     "text": [
      "Name of the Features : ['Age', 'RestingBP', 'Cholesterol', 'FastingBS', 'MaxHR', 'Oldpeak', 'Sex_F', 'Sex_M', 'ChestPainType_ASY', 'ChestPainType_ATA', 'ChestPainType_NAP', 'ChestPainType_TA', 'RestingECG_LVH', 'RestingECG_Normal', 'RestingECG_ST', 'ExerciseAngina_N', 'ExerciseAngina_Y', 'ST_Slope_Down', 'ST_Slope_Flat', 'ST_Slope_Up']\n",
      "length is : 20\n",
      "\n"
     ]
    }
   ],
   "source": [
    "print(f\"Name of the Features : {features}\")\n",
    "print(f\"length is : {len(features)}\")\n",
    "print()"
   ]
  }
 ],
 "metadata": {
  "kernelspec": {
   "display_name": "Python 3",
   "language": "python",
   "name": "python3"
  },
  "language_info": {
   "codemirror_mode": {
    "name": "ipython",
    "version": 3
   },
   "file_extension": ".py",
   "mimetype": "text/x-python",
   "name": "python",
   "nbconvert_exporter": "python",
   "pygments_lexer": "ipython3",
   "version": "3.12.4"
  }
 },
 "nbformat": 4,
 "nbformat_minor": 2
}
