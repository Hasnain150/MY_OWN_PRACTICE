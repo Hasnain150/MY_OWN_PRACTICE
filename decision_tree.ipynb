{
 "cells": [
  {
   "cell_type": "code",
   "execution_count": 48,
   "metadata": {},
   "outputs": [],
   "source": [
    "import numpy as np"
   ]
  },
  {
   "cell_type": "code",
   "execution_count": 58,
   "metadata": {},
   "outputs": [],
   "source": [
    "X_train = np.array([[1, 1, 1],\n",
    "[0, 0, 1],\n",
    " [0, 1, 0],\n",
    " [1, 0, 1],\n",
    " [1, 1, 1],\n",
    " [1, 1, 0],\n",
    " [0, 0, 0],\n",
    " [1, 1, 0],\n",
    " [0, 1, 0],\n",
    " [0, 1, 0]])\n",
    "\n",
    "y_train = np.array([1, 1, 0, 0, 1, 1, 0, 1, 0, 0])"
   ]
  },
  {
   "attachments": {
    "image.png": {
     "image/png": "[encoded data removed]"
    }
   },
   "cell_type": "markdown",
   "metadata": {},
   "source": [
    "![image.png](attachment:image.png)"
   ]
  },
  {
   "cell_type": "code",
   "execution_count": 59,
   "metadata": {},
   "outputs": [],
   "source": [
    "# First Define the Function for Entropy and Then Split Array based on Features and Then Check the Information Gain AGainst All Features\n",
    "\n",
    "def entropy(p) :\n",
    "    # p is Fraction of Examples that are cats \n",
    "    if p == 0 or p == 1:\n",
    "        return 0\n",
    "    return -p * np.log2(p) - (1 - p) * np.log2(1 - p)"
   ]
  },
  {
   "cell_type": "code",
   "execution_count": 60,
   "metadata": {},
   "outputs": [],
   "source": [
    "# Split Arrays Based on Features :\n",
    "\n",
    "def split_array(x_array , index_num) : \n",
    "    p_left = [] \n",
    "    p_right = []\n",
    "    for i , x in enumerate(x_array) : \n",
    "        if(x[index_num]) == 1 :\n",
    "            p_left.append(i)\n",
    "        else : \n",
    "            p_right.append(i)\n",
    "    return p_left , p_right         \n",
    "            "
   ]
  },
  {
   "cell_type": "code",
   "execution_count": 5,
   "metadata": {},
   "outputs": [
    {
     "name": "stdout",
     "output_type": "stream",
     "text": [
      "[0, 3, 4, 5, 7]   [1, 2, 6, 8, 9]\n"
     ]
    }
   ],
   "source": []
  },
  {
   "cell_type": "code",
   "execution_count": 61,
   "metadata": {},
   "outputs": [],
   "source": [
    "def compute_p(p,y_train) :\n",
    "    num=0 \n",
    "    for i,x in enumerate(p) : \n",
    "        if(y_train[x]==1) : \n",
    "            num+=1\n",
    "\n",
    "    length = len(p)\n",
    "    if(length>0) : return num/length\n",
    "    else  : return 0"
   ]
  },
  {
   "cell_type": "code",
   "execution_count": 77,
   "metadata": {},
   "outputs": [],
   "source": [
    "# information gain Formula for a feature : \n",
    "def information_gain (xRoot,y_train,index) : \n",
    "    p_root = sum(y_train)/len(y_train)\n",
    "    hp_root = entropy(p_root)\n",
    "\n",
    "    p_left , p_right = split_array(xRoot,index)\n",
    "\n",
    "    w_left = len(p_left)/len()\n",
    "    return  \n"
   ]
  },
  {
   "cell_type": "markdown",
   "metadata": {},
   "source": []
  },
  {
   "cell_type": "code",
   "execution_count": 71,
   "metadata": {},
   "outputs": [
    {
     "name": "stdout",
     "output_type": "stream",
     "text": [
      "0.4709505944546686\n"
     ]
    }
   ],
   "source": [
    "print(information_gain(X_train[:,2],y_train,2))"
   ]
  },
  {
   "cell_type": "code",
   "execution_count": 78,
   "metadata": {},
   "outputs": [
    {
     "name": "stdout",
     "output_type": "stream",
     "text": [
      "0.2780719051126377\n",
      "0.034851554559677034\n",
      "0.12451124978365313\n"
     ]
    }
   ],
   "source": [
    "for i in range (len(X_train[0])) :\n",
    "    print(information_gain(X_train[:,i],y_train,i))"
   ]
  }
 ],
 "metadata": {
  "kernelspec": {
   "display_name": "Python 3",
   "language": "python",
   "name": "python3"
  },
  "language_info": {
   "codemirror_mode": {
    "name": "ipython",
    "version": 3
   },
   "file_extension": ".py",
   "mimetype": "text/x-python",
   "name": "python",
   "nbconvert_exporter": "python",
   "pygments_lexer": "ipython3",
   "version": "3.12.5"
  }
 },
 "nbformat": 4,
 "nbformat_minor": 2
}
