{
 "cells": [
  {
   "cell_type": "code",
   "execution_count": 5,
   "metadata": {},
   "outputs": [],
   "source": [
    "import math\n",
    "import numpy as np\n",
    "from lab_coffee_utils import load_coffee_data\n",
    "import tensorflow as tf"
   ]
  },
  {
   "cell_type": "markdown",
   "metadata": {},
   "source": [
    "## This here is the Dense ()"
   ]
  },
  {
   "cell_type": "code",
   "execution_count": 35,
   "metadata": {},
   "outputs": [],
   "source": [
    "\n",
    "def Dense(arr_in,W,b) :\n",
    "    len=W.shape[1] # no. of columns will be the number of neurons\n",
    "    a_out=np.zeros(len)\n",
    "    for i in range(len) :\n",
    "        w=W[:,i]\n",
    "      \n",
    "        z_i=np.dot(w,arr_in)+b[i]\n",
    "        a_out[i]=sigmoid(z_i)\n",
    "\n",
    "    return a_out \n",
    "\n",
    "        "
   ]
  },
  {
   "cell_type": "code",
   "execution_count": 1,
   "metadata": {},
   "outputs": [],
   "source": [
    "def sigmoid(x) :\n",
    "    ans= 1 / (1+(2.71)**(-x))\n",
    "    return ans"
   ]
  },
  {
   "cell_type": "code",
   "execution_count": 6,
   "metadata": {},
   "outputs": [
    {
     "name": "stdout",
     "output_type": "stream",
     "text": [
      "(200, 2)\n"
     ]
    }
   ],
   "source": [
    "x,y=load_coffee_data()\n",
    "print(x.shape)"
   ]
  },
  {
   "cell_type": "code",
   "execution_count": 36,
   "metadata": {},
   "outputs": [
    {
     "name": "stdout",
     "output_type": "stream",
     "text": [
      "max 1.66\n"
     ]
    }
   ],
   "source": [
    "norm_layer=tf.keras.layers.Normalization(axis=-1)\n",
    "norm_layer.adapt(x)\n",
    "normalized_data=norm_layer(x)\n",
    "print(f\"max {np.max(normalized_data[:,0]):0.2f}\")"
   ]
  },
  {
   "cell_type": "code",
   "execution_count": 37,
   "metadata": {},
   "outputs": [],
   "source": [
    "W1 = np.array([\n",
    "    [-8.94,  0.29, 12.89],\n",
    "    [-0.17, -7.34, 10.79]] )\n",
    "b1 = np.array([-9.87, -9.28,  1.01])\n",
    "W2 = np.array([\n",
    "    [-31.38],\n",
    "    [-27.86],\n",
    "    [-32.79]])\n",
    "b2 = np.array([15.54])"
   ]
  },
  {
   "cell_type": "code",
   "execution_count": 12,
   "metadata": {},
   "outputs": [],
   "source": [
    "def my_custom_model(Xarr,W1,W2,b1,b2) : \n",
    "    a_1=Dense(Xarr,W1,b1)\n",
    "    a_2=Dense(a_1,W2,b2)\n",
    "    return a_2"
   ]
  },
  {
   "cell_type": "code",
   "execution_count": 38,
   "metadata": {},
   "outputs": [],
   "source": [
    "def prediction(xInput,w1,w2,b1,b2) : \n",
    "    nInput=norm_layer(xInput)\n",
    " \n",
    "    prediction = my_custom_model(nInput[0],w1,w2,b1,b2)\n",
    "    if (prediction[0] >=0.5) : print(\"IT is Positive Example\")\n",
    "    else : print(\"IT is Negative Example\")"
   ]
  },
  {
   "cell_type": "code",
   "execution_count": 41,
   "metadata": {},
   "outputs": [
    {
     "name": "stdout",
     "output_type": "stream",
     "text": [
      "IT is Negative Example\n"
     ]
    }
   ],
   "source": [
    "test_input=np.array([[200,13.9]])\n",
    "test_input2=np.array([[200,17]])\n",
    "prediction(test_input2,W1,W2,b1,b2)"
   ]
  },
  {
   "attachments": {
    "image.png": {
     "image/png": "[encoded data removed]"
    }
   },
   "cell_type": "markdown",
   "metadata": {},
   "source": [
    "# These are the updated weights of parameters use them\n",
    "\n",
    "![image.png](attachment:image.png)\n"
   ]
  }
 ],
 "metadata": {
  "kernelspec": {
   "display_name": "Python 3",
   "language": "python",
   "name": "python3"
  },
  "language_info": {
   "codemirror_mode": {
    "name": "ipython",
    "version": 3
   },
   "file_extension": ".py",
   "mimetype": "text/x-python",
   "name": "python",
   "nbconvert_exporter": "python",
   "pygments_lexer": "ipython3",
   "version": "3.12.3"
  }
 },
 "nbformat": 4,
 "nbformat_minor": 2
}
